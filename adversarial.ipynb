{
 "cells": [
  {
   "cell_type": "markdown",
   "metadata": {},
   "source": [
    "### An impact of adversarial data ovarsampling within imbalanced datasets on training image CNNs"
   ]
  },
  {
   "cell_type": "code",
   "execution_count": 1,
   "metadata": {},
   "outputs": [],
   "source": [
    "import tensorflow as tf\n",
    "import numpy as np\n",
    "import matplotlib.pyplot as plt"
   ]
  },
  {
   "cell_type": "code",
   "execution_count": 2,
   "metadata": {},
   "outputs": [
    {
     "name": "stdout",
     "output_type": "stream",
     "text": [
      "(60000, 28, 28, 1) (60000,)\n"
     ]
    }
   ],
   "source": [
    "(train_images, train_labels), (validation_images, validation_labels) = tf.keras.datasets.mnist.load_data()\n",
    "train_images = np.expand_dims(train_images, axis = 3)\n",
    "validation_images = np.expand_dims(validation_images, axis = 3)\n",
    "print(train_images.shape, train_labels.shape)"
   ]
  },
  {
   "cell_type": "markdown",
   "metadata": {},
   "source": [
    "60k 28x28 train images with labels  \n",
    "10k 28x28 validation images with labels  \n",
    "now build the mnist model"
   ]
  },
  {
   "cell_type": "code",
   "execution_count": 3,
   "metadata": {},
   "outputs": [
    {
     "name": "stdout",
     "output_type": "stream",
     "text": [
      "Model: \"sequential\"\n",
      "_________________________________________________________________\n",
      "Layer (type)                 Output Shape              Param #   \n",
      "=================================================================\n",
      "conv2d (Conv2D)              (None, 24, 24, 20)        520       \n",
      "_________________________________________________________________\n",
      "max_pooling2d (MaxPooling2D) (None, 12, 12, 20)        0         \n",
      "_________________________________________________________________\n",
      "conv2d_1 (Conv2D)            (None, 8, 8, 50)          25050     \n",
      "_________________________________________________________________\n",
      "max_pooling2d_1 (MaxPooling2 (None, 4, 4, 50)          0         \n",
      "_________________________________________________________________\n",
      "flatten (Flatten)            (None, 800)               0         \n",
      "_________________________________________________________________\n",
      "dense (Dense)                (None, 500)               400500    \n",
      "_________________________________________________________________\n",
      "re_lu (ReLU)                 (None, 500)               0         \n",
      "_________________________________________________________________\n",
      "dense_1 (Dense)              (None, 10)                5010      \n",
      "=================================================================\n",
      "Total params: 431,080\n",
      "Trainable params: 431,080\n",
      "Non-trainable params: 0\n",
      "_________________________________________________________________\n"
     ]
    }
   ],
   "source": [
    "mnist_model = tf.keras.models.Sequential()\n",
    "mnist_model.add(tf.keras.layers.Conv2D(20, (5, 5), input_shape = (28, 28, 1), \n",
    "                kernel_regularizer=tf.keras.regularizers.l2(0.0005), \n",
    "                activation = 'relu'))\n",
    "mnist_model.add(tf.keras.layers.MaxPool2D((2, 2), strides = 2))\n",
    "mnist_model.add(tf.keras.layers.Conv2D(50, (5, 5),\n",
    "                kernel_regularizer=tf.keras.regularizers.l2(0.0005), \n",
    "                activation = 'relu'))\n",
    "mnist_model.add(tf.keras.layers.MaxPool2D((2, 2), strides = 2))\n",
    "mnist_model.add(tf.keras.layers.Flatten())\n",
    "mnist_model.add(tf.keras.layers.Dense(500,\n",
    "                kernel_regularizer=tf.keras.regularizers.l2(0.0005), \n",
    "                activation = 'relu'))\n",
    "mnist_model.add(tf.keras.layers.ReLU())\n",
    "mnist_model.add(tf.keras.layers.Dense(10,\n",
    "                kernel_regularizer=tf.keras.regularizers.l2(0.0005),\n",
    "                activation = 'relu'))\n",
    "mnist_model.summary()"
   ]
  },
  {
   "cell_type": "code",
   "execution_count": 22,
   "metadata": {},
   "outputs": [],
   "source": [
    "mnist_model.compile(optimizer = tf.keras.optimizers.SGD(momentum = 0.9),\n",
    "                loss = tf.keras.losses.SparseCategoricalCrossentropy(), \n",
    "                metrics = ['acc'])"
   ]
  },
  {
   "cell_type": "code",
   "execution_count": 24,
   "metadata": {},
   "outputs": [
    {
     "name": "stdout",
     "output_type": "stream",
     "text": [
      "Train on 60000 samples\n",
      "Epoch 1/3\n",
      "60000/60000 [==============================] - 14s 226us/sample - loss: 565.4445 - acc: 0.0987\n",
      "Epoch 2/3\n",
      "60000/60000 [==============================] - 15s 256us/sample - loss: 469.0336 - acc: 0.0987\n",
      "Epoch 3/3\n",
      "60000/60000 [==============================] - 23s 379us/sample - loss: 389.1284 - acc: 0.0987\n"
     ]
    }
   ],
   "source": [
    "history = mnist_model.fit(train_images, train_labels, batch_size = 64, epochs = 3)"
   ]
  },
  {
   "cell_type": "code",
   "execution_count": null,
   "metadata": {},
   "outputs": [],
   "source": []
  }
 ],
 "metadata": {
  "kernelspec": {
   "display_name": "Python 3",
   "language": "python",
   "name": "python3"
  },
  "language_info": {
   "codemirror_mode": {
    "name": "ipython",
    "version": 3
   },
   "file_extension": ".py",
   "mimetype": "text/x-python",
   "name": "python",
   "nbconvert_exporter": "python",
   "pygments_lexer": "ipython3",
   "version": "3.6.9"
  }
 },
 "nbformat": 4,
 "nbformat_minor": 4
}
