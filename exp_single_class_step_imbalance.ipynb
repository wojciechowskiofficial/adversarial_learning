{
 "cells": [
  {
   "cell_type": "markdown",
   "metadata": {},
   "source": [
    "# An impact of adversarial data ovarsampling within imbalanced datasets on training image CNNs"
   ]
  },
  {
   "cell_type": "code",
   "execution_count": 1,
   "metadata": {},
   "outputs": [],
   "source": [
    "import tensorflow as tf\n",
    "import numpy as np\n",
    "import matplotlib.pyplot as plt\n",
    "import Helper_functions as hf\n",
    "import json\n",
    "import copy\n",
    "import imblearn"
   ]
  },
  {
   "cell_type": "code",
   "execution_count": 2,
   "metadata": {},
   "outputs": [],
   "source": [
    "(train_images, train_labels), (test_images, test_labels) = tf.keras.datasets.mnist.load_data()\n",
    "(validation_images, validation_labels) = (train_images[50000:], train_labels[50000:])\n",
    "(train_images, train_labels) = (train_images[:50000], train_labels[:50000])"
   ]
  },
  {
   "cell_type": "markdown",
   "metadata": {},
   "source": [
    "60k 28x28 train images with labels  \n",
    "10k 28x28 validation images with labels"
   ]
  },
  {
   "cell_type": "markdown",
   "metadata": {},
   "source": [
    "##  baseline model with balanced data"
   ]
  },
  {
   "cell_type": "code",
   "execution_count": 3,
   "metadata": {},
   "outputs": [],
   "source": [
    "train_images_expanded = np.expand_dims(train_images, axis = 3)\n",
    "validation_images_expanded = np.expand_dims(validation_images, axis = 3)\n",
    "test_images_expanded = np.expand_dims(test_images, axis = 3)\n",
    "train_images_tf = tf.cast(train_images_expanded, dtype = tf.float32) / 255.0\n",
    "validation_images_tf = tf.cast(validation_images_expanded, dtype = tf.float32) / 255.0\n",
    "test_images_tf = tf.cast(test_images_expanded, dtype = tf.float32) / 255.0"
   ]
  },
  {
   "cell_type": "code",
   "execution_count": 4,
   "metadata": {},
   "outputs": [],
   "source": [
    "optimizer = tf.keras.optimizers.Adam(learning_rate = 0.0001)\n",
    "loss = tf.keras.losses.SparseCategoricalCrossentropy(from_logits = True)\n",
    "metrics = ['acc']\n",
    "callbacks = list()"
   ]
  },
  {
   "cell_type": "code",
   "execution_count": 5,
   "metadata": {},
   "outputs": [],
   "source": [
    "def model_run(model_name, epochs, ti, tl, vi, vl, optimizer, loss, metrics, callbacks):\n",
    "    model_name.add(tf.keras.layers.Conv2D(28, (3, 3), activation = 'relu', padding = 'same', input_shape = (28, 28, 1)))\n",
    "    model_name.add(tf.keras.layers.MaxPooling2D((2, 2)))\n",
    "    model_name.add(tf.keras.layers.Conv2D(56, (3, 3), padding = 'same', activation = 'relu'))\n",
    "    model_name.add(tf.keras.layers.MaxPooling2D((2, 2)))\n",
    "    model_name.add(tf.keras.layers.Conv2D(56, (3, 3), padding = 'same', activation = 'relu'))\n",
    "    model_name.add(tf.keras.layers.Flatten())\n",
    "    model_name.add(tf.keras.layers.Dense(56, activation = 'relu'))\n",
    "    model_name.add(tf.keras.layers.Dense(10))\n",
    "    model_name.compile(optimizer = optimizer, \n",
    "                  loss = loss, \n",
    "                  metrics = metrics)\n",
    "    history = model_name.fit(\n",
    "    ti, tl,\n",
    "    epochs = epochs,\n",
    "    validation_data = (vi, vl))\n",
    "    model_name.summary()\n",
    "    return history\n",
    "def write_to_json(dictionary, gmean, filename):\n",
    "    dictionary = copy.deepcopy(dictionary)\n",
    "    for key in dictionary.keys():\n",
    "        dictionary[key] = str(dictionary[key][-1])\n",
    "    dictionary['gmean'] = str(gmean)\n",
    "    with open(filename, 'w') as f:\n",
    "        json.dump(dictionary, f)"
   ]
  },
  {
   "cell_type": "code",
   "execution_count": 6,
   "metadata": {},
   "outputs": [
    {
     "name": "stdout",
     "output_type": "stream",
     "text": [
      "Train on 50000 samples, validate on 10000 samples\n",
      "Epoch 1/20\n",
      "50000/50000 [==============================] - 8s 159us/sample - loss: 0.4010 - acc: 0.8865 - val_loss: 0.1423 - val_acc: 0.9623\n",
      "Epoch 2/20\n",
      "50000/50000 [==============================] - 6s 126us/sample - loss: 0.1152 - acc: 0.9655 - val_loss: 0.0852 - val_acc: 0.9764\n",
      "Epoch 3/20\n",
      "50000/50000 [==============================] - 6s 126us/sample - loss: 0.0781 - acc: 0.9771 - val_loss: 0.0721 - val_acc: 0.9791\n",
      "Epoch 4/20\n",
      "50000/50000 [==============================] - 6s 126us/sample - loss: 0.0614 - acc: 0.9819 - val_loss: 0.0567 - val_acc: 0.9837\n",
      "Epoch 5/20\n",
      "50000/50000 [==============================] - 6s 126us/sample - loss: 0.0514 - acc: 0.9848 - val_loss: 0.0504 - val_acc: 0.9867\n",
      "Epoch 6/20\n",
      "50000/50000 [==============================] - 6s 126us/sample - loss: 0.0437 - acc: 0.9870 - val_loss: 0.0489 - val_acc: 0.9862\n",
      "Epoch 7/20\n",
      "50000/50000 [==============================] - 6s 126us/sample - loss: 0.0376 - acc: 0.9878 - val_loss: 0.0457 - val_acc: 0.9874\n",
      "Epoch 8/20\n",
      "50000/50000 [==============================] - 6s 126us/sample - loss: 0.0333 - acc: 0.9897 - val_loss: 0.0477 - val_acc: 0.9866\n",
      "Epoch 9/20\n",
      "50000/50000 [==============================] - 6s 126us/sample - loss: 0.0296 - acc: 0.9908 - val_loss: 0.0420 - val_acc: 0.9884\n",
      "Epoch 10/20\n",
      "50000/50000 [==============================] - 6s 125us/sample - loss: 0.0264 - acc: 0.9919 - val_loss: 0.0403 - val_acc: 0.9885\n",
      "Epoch 11/20\n",
      "50000/50000 [==============================] - 6s 126us/sample - loss: 0.0240 - acc: 0.9928 - val_loss: 0.0381 - val_acc: 0.9888\n",
      "Epoch 12/20\n",
      "50000/50000 [==============================] - 6s 126us/sample - loss: 0.0210 - acc: 0.9930 - val_loss: 0.0404 - val_acc: 0.9887\n",
      "Epoch 13/20\n",
      "50000/50000 [==============================] - 6s 126us/sample - loss: 0.0182 - acc: 0.9944 - val_loss: 0.0395 - val_acc: 0.9891\n",
      "Epoch 14/20\n",
      "50000/50000 [==============================] - 6s 126us/sample - loss: 0.0172 - acc: 0.9946 - val_loss: 0.0415 - val_acc: 0.9878\n",
      "Epoch 15/20\n",
      "50000/50000 [==============================] - 6s 125us/sample - loss: 0.0153 - acc: 0.9954 - val_loss: 0.0376 - val_acc: 0.9892\n",
      "Epoch 16/20\n",
      "50000/50000 [==============================] - 6s 126us/sample - loss: 0.0132 - acc: 0.9958 - val_loss: 0.0366 - val_acc: 0.9901\n",
      "Epoch 17/20\n",
      "50000/50000 [==============================] - 6s 126us/sample - loss: 0.0122 - acc: 0.9961 - val_loss: 0.0378 - val_acc: 0.9895\n",
      "Epoch 18/20\n",
      "50000/50000 [==============================] - 6s 126us/sample - loss: 0.0103 - acc: 0.9967 - val_loss: 0.0362 - val_acc: 0.9890\n",
      "Epoch 19/20\n",
      "50000/50000 [==============================] - 6s 126us/sample - loss: 0.0094 - acc: 0.9974 - val_loss: 0.0339 - val_acc: 0.9907\n",
      "Epoch 20/20\n",
      "50000/50000 [==============================] - 6s 125us/sample - loss: 0.0087 - acc: 0.9975 - val_loss: 0.0412 - val_acc: 0.9892\n",
      "Model: \"sequential\"\n",
      "_________________________________________________________________\n",
      "Layer (type)                 Output Shape              Param #   \n",
      "=================================================================\n",
      "conv2d (Conv2D)              (None, 28, 28, 28)        280       \n",
      "_________________________________________________________________\n",
      "max_pooling2d (MaxPooling2D) (None, 14, 14, 28)        0         \n",
      "_________________________________________________________________\n",
      "conv2d_1 (Conv2D)            (None, 14, 14, 56)        14168     \n",
      "_________________________________________________________________\n",
      "max_pooling2d_1 (MaxPooling2 (None, 7, 7, 56)          0         \n",
      "_________________________________________________________________\n",
      "conv2d_2 (Conv2D)            (None, 7, 7, 56)          28280     \n",
      "_________________________________________________________________\n",
      "flatten (Flatten)            (None, 2744)              0         \n",
      "_________________________________________________________________\n",
      "dense (Dense)                (None, 56)                153720    \n",
      "_________________________________________________________________\n",
      "dense_1 (Dense)              (None, 10)                570       \n",
      "=================================================================\n",
      "Total params: 197,018\n",
      "Trainable params: 197,018\n",
      "Non-trainable params: 0\n",
      "_________________________________________________________________\n"
     ]
    }
   ],
   "source": [
    "baseline = tf.keras.models.Sequential()\n",
    "history = model_run(baseline, 20, train_images_tf, train_labels, validation_images_tf, validation_labels, \n",
    "          optimizer, loss, metrics, callbacks)\n",
    "baseline.save('checkpoints/baseline.hdf5')"
   ]
  },
  {
   "cell_type": "code",
   "execution_count": 7,
   "metadata": {},
   "outputs": [
    {
     "name": "stdout",
     "output_type": "stream",
     "text": [
      "Model: \"sequential_1\"\n",
      "_________________________________________________________________\n",
      "Layer (type)                 Output Shape              Param #   \n",
      "=================================================================\n",
      "sequential (Sequential)      (None, 10)                197018    \n",
      "_________________________________________________________________\n",
      "softmax (Softmax)            (None, 10)                0         \n",
      "=================================================================\n",
      "Total params: 197,018\n",
      "Trainable params: 197,018\n",
      "Non-trainable params: 0\n",
      "_________________________________________________________________\n"
     ]
    }
   ],
   "source": [
    "baseline_probab = tf.keras.models.Sequential([baseline, tf.keras.layers.Softmax()])\n",
    "baseline_probab.summary()"
   ]
  },
  {
   "cell_type": "code",
   "execution_count": 8,
   "metadata": {},
   "outputs": [
    {
     "data": {
      "text/plain": [
       "{'loss': [0.40097944573283195,\n",
       "  0.11518442195028067,\n",
       "  0.07808244839251041,\n",
       "  0.06139210997465998,\n",
       "  0.05138453656576574,\n",
       "  0.04374182277299464,\n",
       "  0.03762027331748046,\n",
       "  0.033285588168539104,\n",
       "  0.029552520315945147,\n",
       "  0.026399197155861184,\n",
       "  0.023993404624229296,\n",
       "  0.021008145888969303,\n",
       "  0.018168611429417506,\n",
       "  0.017218346106589306,\n",
       "  0.015261391953423154,\n",
       "  0.013176212509323377,\n",
       "  0.012167829024911625,\n",
       "  0.010322019937847217,\n",
       "  0.009434466619607992,\n",
       "  0.00867256511011161],\n",
       " 'acc': [0.8865,\n",
       "  0.96548,\n",
       "  0.9771,\n",
       "  0.98186,\n",
       "  0.98476,\n",
       "  0.98698,\n",
       "  0.98784,\n",
       "  0.98974,\n",
       "  0.99082,\n",
       "  0.99194,\n",
       "  0.99278,\n",
       "  0.99304,\n",
       "  0.99438,\n",
       "  0.9946,\n",
       "  0.99538,\n",
       "  0.99582,\n",
       "  0.9961,\n",
       "  0.99666,\n",
       "  0.99742,\n",
       "  0.9975],\n",
       " 'val_loss': [0.14228270832747222,\n",
       "  0.08515502809137106,\n",
       "  0.07212631533928215,\n",
       "  0.056664934997446834,\n",
       "  0.05043486579824239,\n",
       "  0.04890282095298171,\n",
       "  0.045743393174349334,\n",
       "  0.04769130050130189,\n",
       "  0.041961871520010754,\n",
       "  0.04031426881700754,\n",
       "  0.03811304400530062,\n",
       "  0.040375582126533846,\n",
       "  0.039458250168891394,\n",
       "  0.04145576034754049,\n",
       "  0.03760704459583794,\n",
       "  0.036600845731954906,\n",
       "  0.0378322322421649,\n",
       "  0.03624832094117737,\n",
       "  0.033898517647744666,\n",
       "  0.041172636999842506],\n",
       " 'val_acc': [0.9623,\n",
       "  0.9764,\n",
       "  0.9791,\n",
       "  0.9837,\n",
       "  0.9867,\n",
       "  0.9862,\n",
       "  0.9874,\n",
       "  0.9866,\n",
       "  0.9884,\n",
       "  0.9885,\n",
       "  0.9888,\n",
       "  0.9887,\n",
       "  0.9891,\n",
       "  0.9878,\n",
       "  0.9892,\n",
       "  0.9901,\n",
       "  0.9895,\n",
       "  0.989,\n",
       "  0.9907,\n",
       "  0.9892]}"
      ]
     },
     "execution_count": 8,
     "metadata": {},
     "output_type": "execute_result"
    }
   ],
   "source": [
    "history.history"
   ]
  },
  {
   "cell_type": "code",
   "execution_count": 9,
   "metadata": {},
   "outputs": [
    {
     "data": {
      "image/png": "[encoded data removed]",
      "text/plain": [
       "<Figure size 432x288 with 1 Axes>"
      ]
     },
     "metadata": {
      "needs_background": "light"
     },
     "output_type": "display_data"
    },
    {
     "data": {
      "image/png": "[encoded data removed]",
      "text/plain": [
       "<Figure size 432x288 with 1 Axes>"
      ]
     },
     "metadata": {
      "needs_background": "light"
     },
     "output_type": "display_data"
    }
   ],
   "source": [
    "plt.title('losses')\n",
    "plt.plot(history.history['val_loss'], label = 'val_loss')\n",
    "plt.plot(history.history['loss'], label = 'loss')\n",
    "plt.legend(loc = 'best')\n",
    "plt.show()\n",
    "plt.title('accuracies')\n",
    "plt.plot(history.history['val_acc'], label = 'val_acc')\n",
    "plt.plot(history.history['acc'], label = 'acc')\n",
    "plt.legend(loc = 'best')\n",
    "plt.show()"
   ]
  },
  {
   "cell_type": "code",
   "execution_count": 10,
   "metadata": {},
   "outputs": [
    {
     "name": "stdout",
     "output_type": "stream",
     "text": [
      "0.9905713093078085\n"
     ]
    }
   ],
   "source": [
    "baseline_test_preds = tf.argmax(baseline_probab(test_images_tf), axis=-1)\n",
    "baseline_gmean = imblearn.metrics.geometric_mean_score(test_labels, baseline_test_preds, \n",
    "                                                       correction = np.finfo(np.float32).eps)\n",
    "print(baseline_gmean)"
   ]
  },
  {
   "cell_type": "code",
   "execution_count": 11,
   "metadata": {},
   "outputs": [],
   "source": [
    "#write_to_json(history.history, baseline_gmean, 'checkpoints/balanced/metrics_balanced.json')"
   ]
  },
  {
   "cell_type": "markdown",
   "metadata": {},
   "source": [
    "## make imbalanced set $\\mu=0.4 \\rho=10$"
   ]
  },
  {
   "cell_type": "code",
   "execution_count": 12,
   "metadata": {},
   "outputs": [
    {
     "name": "stdout",
     "output_type": "stream",
     "text": [
      "{0: 4506, 1: 4506, 2: 451, 3: 4506, 4: 451, 5: 4506, 6: 4506, 7: 451, 8: 4506, 9: 451}\n"
     ]
    },
    {
     "data": {
      "image/png": "[encoded data removed]",
      "text/plain": [
       "<Figure size 432x288 with 1 Axes>"
      ]
     },
     "metadata": {
      "needs_background": "light"
     },
     "output_type": "display_data"
    },
    {
     "name": "stdout",
     "output_type": "stream",
     "text": [
      "mu = 0.4, rho = 9.991130820399112\n"
     ]
    }
   ],
   "source": [
    "(imb_train_images, imb_train_labels) = hf.Imbalance.change_set_statistics(train_images, train_labels, 0.4, 10)\n",
    "print(hf.Imbalance.get_set_distribution(imb_train_labels))\n",
    "hf.Imbalance.plot_set_distribution(imb_train_images, imb_train_labels)\n",
    "imb_train_images_expanded = np.expand_dims(imb_train_images, axis = 3)\n",
    "imb_train_images_tf = tf.cast(imb_train_images_expanded, dtype = tf.float32) / 255.0"
   ]
  },
  {
   "cell_type": "markdown",
   "metadata": {},
   "source": [
    "### check model behavior on imbalanced set"
   ]
  },
  {
   "cell_type": "code",
   "execution_count": 21,
   "metadata": {},
   "outputs": [],
   "source": [
    "optimizer = tf.keras.optimizers.Adam(learning_rate = 0.0001)\n",
    "loss = tf.keras.losses.SparseCategoricalCrossentropy(from_logits = True)\n",
    "metrics = ['acc']\n",
    "callbacks = list()"
   ]
  },
  {
   "cell_type": "code",
   "execution_count": 22,
   "metadata": {},
   "outputs": [
    {
     "name": "stdout",
     "output_type": "stream",
     "text": [
      "Train on 28840 samples, validate on 10000 samples\n",
      "Epoch 1/20\n",
      "28840/28840 [==============================] - 4s 155us/sample - loss: 0.5610 - acc: 0.8319 - val_loss: 0.3859 - val_acc: 0.8827\n",
      "Epoch 2/20\n",
      "28840/28840 [==============================] - 4s 135us/sample - loss: 0.1422 - acc: 0.9566 - val_loss: 0.2391 - val_acc: 0.9278\n",
      "Epoch 3/20\n",
      "28840/28840 [==============================] - 4s 135us/sample - loss: 0.0958 - acc: 0.9702 - val_loss: 0.1989 - val_acc: 0.9414\n",
      "Epoch 4/20\n",
      "28840/28840 [==============================] - 4s 135us/sample - loss: 0.0751 - acc: 0.9763 - val_loss: 0.1569 - val_acc: 0.9546\n",
      "Epoch 5/20\n",
      "28840/28840 [==============================] - 4s 135us/sample - loss: 0.0634 - acc: 0.9801 - val_loss: 0.1423 - val_acc: 0.9571\n",
      "Epoch 6/20\n",
      "28840/28840 [==============================] - 4s 135us/sample - loss: 0.0542 - acc: 0.9836 - val_loss: 0.1263 - val_acc: 0.9603\n",
      "Epoch 7/20\n",
      "28840/28840 [==============================] - 4s 134us/sample - loss: 0.0473 - acc: 0.9858 - val_loss: 0.0983 - val_acc: 0.9716\n",
      "Epoch 8/20\n",
      "28840/28840 [==============================] - 4s 135us/sample - loss: 0.0426 - acc: 0.9870 - val_loss: 0.0997 - val_acc: 0.9706\n",
      "Epoch 9/20\n",
      "28840/28840 [==============================] - 4s 135us/sample - loss: 0.0376 - acc: 0.9885 - val_loss: 0.1026 - val_acc: 0.9686\n",
      "Epoch 10/20\n",
      "28840/28840 [==============================] - 4s 135us/sample - loss: 0.0336 - acc: 0.9896 - val_loss: 0.0898 - val_acc: 0.9724\n",
      "Epoch 11/20\n",
      "28840/28840 [==============================] - 4s 134us/sample - loss: 0.0291 - acc: 0.9914 - val_loss: 0.0929 - val_acc: 0.9735\n",
      "Epoch 12/20\n",
      "28840/28840 [==============================] - 4s 135us/sample - loss: 0.0270 - acc: 0.9912 - val_loss: 0.0861 - val_acc: 0.9754\n",
      "Epoch 13/20\n",
      "28840/28840 [==============================] - 4s 135us/sample - loss: 0.0247 - acc: 0.9918 - val_loss: 0.0902 - val_acc: 0.9736\n",
      "Epoch 14/20\n",
      "28840/28840 [==============================] - 4s 135us/sample - loss: 0.0224 - acc: 0.9931 - val_loss: 0.0958 - val_acc: 0.9723\n",
      "Epoch 15/20\n",
      "28840/28840 [==============================] - 4s 135us/sample - loss: 0.0195 - acc: 0.9938 - val_loss: 0.0765 - val_acc: 0.9794\n",
      "Epoch 16/20\n",
      "28840/28840 [==============================] - 4s 135us/sample - loss: 0.0174 - acc: 0.9945 - val_loss: 0.0740 - val_acc: 0.9797\n",
      "Epoch 17/20\n",
      "28840/28840 [==============================] - 4s 135us/sample - loss: 0.0169 - acc: 0.9948 - val_loss: 0.0785 - val_acc: 0.9782\n",
      "Epoch 18/20\n",
      "28840/28840 [==============================] - 4s 135us/sample - loss: 0.0140 - acc: 0.9959 - val_loss: 0.0913 - val_acc: 0.9748\n",
      "Epoch 19/20\n",
      "28840/28840 [==============================] - 4s 135us/sample - loss: 0.0133 - acc: 0.9960 - val_loss: 0.0834 - val_acc: 0.9776\n",
      "Epoch 20/20\n",
      "28840/28840 [==============================] - 4s 135us/sample - loss: 0.0122 - acc: 0.9962 - val_loss: 0.0764 - val_acc: 0.9784\n",
      "Model: \"sequential_5\"\n",
      "_________________________________________________________________\n",
      "Layer (type)                 Output Shape              Param #   \n",
      "=================================================================\n",
      "conv2d_9 (Conv2D)            (None, 28, 28, 28)        280       \n",
      "_________________________________________________________________\n",
      "max_pooling2d_6 (MaxPooling2 (None, 14, 14, 28)        0         \n",
      "_________________________________________________________________\n",
      "conv2d_10 (Conv2D)           (None, 14, 14, 56)        14168     \n",
      "_________________________________________________________________\n",
      "max_pooling2d_7 (MaxPooling2 (None, 7, 7, 56)          0         \n",
      "_________________________________________________________________\n",
      "conv2d_11 (Conv2D)           (None, 7, 7, 56)          28280     \n",
      "_________________________________________________________________\n",
      "flatten_3 (Flatten)          (None, 2744)              0         \n",
      "_________________________________________________________________\n",
      "dense_6 (Dense)              (None, 56)                153720    \n",
      "_________________________________________________________________\n",
      "dense_7 (Dense)              (None, 10)                570       \n",
      "=================================================================\n",
      "Total params: 197,018\n",
      "Trainable params: 197,018\n",
      "Non-trainable params: 0\n",
      "_________________________________________________________________\n"
     ]
    }
   ],
   "source": [
    "baseline = tf.keras.models.Sequential()\n",
    "history = model_run(baseline, 20, imb_train_images_tf, imb_train_labels, validation_images_tf, validation_labels, \n",
    "          optimizer, loss, metrics, callbacks)"
   ]
  },
  {
   "cell_type": "code",
   "execution_count": 15,
   "metadata": {},
   "outputs": [
    {
     "name": "stdout",
     "output_type": "stream",
     "text": [
      "Model: \"sequential_3\"\n",
      "_________________________________________________________________\n",
      "Layer (type)                 Output Shape              Param #   \n",
      "=================================================================\n",
      "sequential_2 (Sequential)    (None, 10)                197018    \n",
      "_________________________________________________________________\n",
      "softmax_1 (Softmax)          (None, 10)                0         \n",
      "=================================================================\n",
      "Total params: 197,018\n",
      "Trainable params: 197,018\n",
      "Non-trainable params: 0\n",
      "_________________________________________________________________\n"
     ]
    }
   ],
   "source": [
    "baseline_probab = tf.keras.models.Sequential([baseline, tf.keras.layers.Softmax()])\n",
    "baseline_probab.summary()"
   ]
  },
  {
   "cell_type": "code",
   "execution_count": 16,
   "metadata": {},
   "outputs": [
    {
     "data": {
      "image/png": "[encoded data removed]",
      "text/plain": [
       "<Figure size 432x288 with 1 Axes>"
      ]
     },
     "metadata": {
      "needs_background": "light"
     },
     "output_type": "display_data"
    },
    {
     "data": {
      "image/png": "[encoded data removed]",
      "text/plain": [
       "<Figure size 432x288 with 1 Axes>"
      ]
     },
     "metadata": {
      "needs_background": "light"
     },
     "output_type": "display_data"
    }
   ],
   "source": [
    "plt.title('losses')\n",
    "plt.plot(history.history['val_loss'], label = 'val_loss')\n",
    "plt.plot(history.history['loss'], label = 'loss')\n",
    "plt.legend(loc = 'best')\n",
    "plt.show()\n",
    "plt.title('accuracies')\n",
    "plt.plot(history.history['val_acc'], label = 'val_acc')\n",
    "plt.plot(history.history['acc'], label = 'acc')\n",
    "plt.legend(loc = 'best')\n",
    "plt.show()"
   ]
  },
  {
   "cell_type": "code",
   "execution_count": 17,
   "metadata": {},
   "outputs": [
    {
     "name": "stdout",
     "output_type": "stream",
     "text": [
      "0.9757385194937309\n"
     ]
    }
   ],
   "source": [
    "baseline_test_preds = tf.argmax(baseline_probab(test_images_tf), axis=-1)\n",
    "baseline_gmean = imblearn.metrics.geometric_mean_score(test_labels, baseline_test_preds, \n",
    "                                                       correction = np.finfo(np.float32).eps)\n",
    "print(baseline_gmean)"
   ]
  }
 ],
 "metadata": {
  "kernelspec": {
   "display_name": "venv",
   "language": "python",
   "name": "venv"
  },
  "language_info": {
   "codemirror_mode": {
    "name": "ipython",
    "version": 3
   },
   "file_extension": ".py",
   "mimetype": "text/x-python",
   "name": "python",
   "nbconvert_exporter": "python",
   "pygments_lexer": "ipython3",
   "version": "3.6.10"
  }
 },
 "nbformat": 4,
 "nbformat_minor": 4
}
